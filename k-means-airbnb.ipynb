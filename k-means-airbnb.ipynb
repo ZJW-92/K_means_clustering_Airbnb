{
 "cells": [
  {
   "cell_type": "code",
   "execution_count": 1,
   "metadata": {
    "tags": []
   },
   "outputs": [
    {
     "name": "stdout",
     "output_type": "stream",
     "text": [
      "<class 'pandas.core.frame.DataFrame'>\n",
      "RangeIndex: 67936 entries, 0 to 67935\n",
      "Data columns (total 14 columns):\n",
      " #   Column              Non-Null Count  Dtype \n",
      "---  ------              --------------  ----- \n",
      " 0   age                 67936 non-null  int64 \n",
      " 1   date_acc_reg        67936 non-null  object\n",
      " 2   date_first_booking  67936 non-null  object\n",
      " 3   gender              67936 non-null  object\n",
      " 4   language_en         67936 non-null  int64 \n",
      " 5   language_chn        67936 non-null  int64 \n",
      " 6   country_usa         67936 non-null  int64 \n",
      " 7   country_eur         67936 non-null  int64 \n",
      " 8   android             67936 non-null  int64 \n",
      " 9   mobile_web          67936 non-null  int64 \n",
      " 10  webpage             67936 non-null  int64 \n",
      " 11  ios                 67936 non-null  int64 \n",
      " 12  married             67936 non-null  int64 \n",
      " 13  children            67936 non-null  int64 \n",
      "dtypes: int64(11), object(3)\n",
      "memory usage: 7.3+ MB\n"
     ]
    }
   ],
   "source": [
    "#import module and data \n",
    "import pandas as pd\n",
    "import matplotlib.pyplot as plt\n",
    "import seaborn as sns\n",
    "%matplotlib inline\n",
    "\n",
    "airbnb = pd.read_csv('airbnb.csv')\n",
    "airbnb.info()"
   ]
  },
  {
   "cell_type": "code",
   "execution_count": 2,
   "metadata": {},
   "outputs": [
    {
     "data": {
      "text/html": [
       "<div>\n",
       "<style scoped>\n",
       "    .dataframe tbody tr th:only-of-type {\n",
       "        vertical-align: middle;\n",
       "    }\n",
       "\n",
       "    .dataframe tbody tr th {\n",
       "        vertical-align: top;\n",
       "    }\n",
       "\n",
       "    .dataframe thead th {\n",
       "        text-align: right;\n",
       "    }\n",
       "</style>\n",
       "<table border=\"1\" class=\"dataframe\">\n",
       "  <thead>\n",
       "    <tr style=\"text-align: right;\">\n",
       "      <th></th>\n",
       "      <th>age</th>\n",
       "      <th>date_acc_reg</th>\n",
       "      <th>date_first_booking</th>\n",
       "      <th>gender</th>\n",
       "      <th>language_en</th>\n",
       "      <th>language_chn</th>\n",
       "      <th>country_usa</th>\n",
       "      <th>country_eur</th>\n",
       "      <th>android</th>\n",
       "      <th>mobile_web</th>\n",
       "      <th>webpage</th>\n",
       "      <th>ios</th>\n",
       "      <th>married</th>\n",
       "      <th>children</th>\n",
       "    </tr>\n",
       "  </thead>\n",
       "  <tbody>\n",
       "    <tr>\n",
       "      <th>0</th>\n",
       "      <td>56</td>\n",
       "      <td>9/28/2010</td>\n",
       "      <td>8/2/2010</td>\n",
       "      <td>F</td>\n",
       "      <td>1</td>\n",
       "      <td>0</td>\n",
       "      <td>1</td>\n",
       "      <td>0</td>\n",
       "      <td>1</td>\n",
       "      <td>0</td>\n",
       "      <td>1</td>\n",
       "      <td>0</td>\n",
       "      <td>1</td>\n",
       "      <td>1</td>\n",
       "    </tr>\n",
       "    <tr>\n",
       "      <th>1</th>\n",
       "      <td>42</td>\n",
       "      <td>12/5/2011</td>\n",
       "      <td>9/8/2012</td>\n",
       "      <td>F</td>\n",
       "      <td>1</td>\n",
       "      <td>0</td>\n",
       "      <td>0</td>\n",
       "      <td>0</td>\n",
       "      <td>0</td>\n",
       "      <td>1</td>\n",
       "      <td>1</td>\n",
       "      <td>0</td>\n",
       "      <td>0</td>\n",
       "      <td>1</td>\n",
       "    </tr>\n",
       "    <tr>\n",
       "      <th>2</th>\n",
       "      <td>41</td>\n",
       "      <td>9/14/2010</td>\n",
       "      <td>2/18/2010</td>\n",
       "      <td>U</td>\n",
       "      <td>1</td>\n",
       "      <td>0</td>\n",
       "      <td>1</td>\n",
       "      <td>0</td>\n",
       "      <td>1</td>\n",
       "      <td>0</td>\n",
       "      <td>1</td>\n",
       "      <td>0</td>\n",
       "      <td>0</td>\n",
       "      <td>2</td>\n",
       "    </tr>\n",
       "    <tr>\n",
       "      <th>3</th>\n",
       "      <td>46</td>\n",
       "      <td>1/2/2010</td>\n",
       "      <td>1/5/2010</td>\n",
       "      <td>F</td>\n",
       "      <td>1</td>\n",
       "      <td>0</td>\n",
       "      <td>1</td>\n",
       "      <td>0</td>\n",
       "      <td>1</td>\n",
       "      <td>0</td>\n",
       "      <td>1</td>\n",
       "      <td>0</td>\n",
       "      <td>0</td>\n",
       "      <td>2</td>\n",
       "    </tr>\n",
       "    <tr>\n",
       "      <th>4</th>\n",
       "      <td>47</td>\n",
       "      <td>1/3/2010</td>\n",
       "      <td>1/13/2010</td>\n",
       "      <td>F</td>\n",
       "      <td>1</td>\n",
       "      <td>0</td>\n",
       "      <td>1</td>\n",
       "      <td>0</td>\n",
       "      <td>1</td>\n",
       "      <td>0</td>\n",
       "      <td>1</td>\n",
       "      <td>0</td>\n",
       "      <td>1</td>\n",
       "      <td>3</td>\n",
       "    </tr>\n",
       "  </tbody>\n",
       "</table>\n",
       "</div>"
      ],
      "text/plain": [
       "   age date_acc_reg date_first_booking gender  language_en  language_chn  \\\n",
       "0   56    9/28/2010           8/2/2010      F            1             0   \n",
       "1   42    12/5/2011           9/8/2012      F            1             0   \n",
       "2   41    9/14/2010          2/18/2010      U            1             0   \n",
       "3   46     1/2/2010           1/5/2010      F            1             0   \n",
       "4   47     1/3/2010          1/13/2010      F            1             0   \n",
       "\n",
       "   country_usa  country_eur  android  mobile_web  webpage  ios  married  \\\n",
       "0            1            0        1           0        1    0        1   \n",
       "1            0            0        0           1        1    0        0   \n",
       "2            1            0        1           0        1    0        0   \n",
       "3            1            0        1           0        1    0        0   \n",
       "4            1            0        1           0        1    0        1   \n",
       "\n",
       "   children  \n",
       "0         1  \n",
       "1         1  \n",
       "2         2  \n",
       "3         2  \n",
       "4         3  "
      ]
     },
     "execution_count": 2,
     "metadata": {},
     "output_type": "execute_result"
    }
   ],
   "source": [
    "airbnb.head() #read first five line data"
   ]
  },
  {
   "cell_type": "code",
   "execution_count": 3,
   "metadata": {},
   "outputs": [
    {
     "data": {
      "text/html": [
       "<div>\n",
       "<style scoped>\n",
       "    .dataframe tbody tr th:only-of-type {\n",
       "        vertical-align: middle;\n",
       "    }\n",
       "\n",
       "    .dataframe tbody tr th {\n",
       "        vertical-align: top;\n",
       "    }\n",
       "\n",
       "    .dataframe thead th {\n",
       "        text-align: right;\n",
       "    }\n",
       "</style>\n",
       "<table border=\"1\" class=\"dataframe\">\n",
       "  <thead>\n",
       "    <tr style=\"text-align: right;\">\n",
       "      <th></th>\n",
       "      <th>age</th>\n",
       "      <th>language_en</th>\n",
       "      <th>language_chn</th>\n",
       "      <th>country_usa</th>\n",
       "      <th>country_eur</th>\n",
       "      <th>android</th>\n",
       "      <th>mobile_web</th>\n",
       "      <th>webpage</th>\n",
       "      <th>ios</th>\n",
       "      <th>married</th>\n",
       "      <th>children</th>\n",
       "    </tr>\n",
       "  </thead>\n",
       "  <tbody>\n",
       "    <tr>\n",
       "      <th>count</th>\n",
       "      <td>67936.000000</td>\n",
       "      <td>67936.000000</td>\n",
       "      <td>67936.000000</td>\n",
       "      <td>67936.000000</td>\n",
       "      <td>67936.000000</td>\n",
       "      <td>67936.000000</td>\n",
       "      <td>67936.000000</td>\n",
       "      <td>67936.000000</td>\n",
       "      <td>67936.000000</td>\n",
       "      <td>67936.000000</td>\n",
       "      <td>67936.000000</td>\n",
       "    </tr>\n",
       "    <tr>\n",
       "      <th>mean</th>\n",
       "      <td>47.874249</td>\n",
       "      <td>0.974476</td>\n",
       "      <td>0.005947</td>\n",
       "      <td>0.713907</td>\n",
       "      <td>0.159091</td>\n",
       "      <td>0.658355</td>\n",
       "      <td>0.340423</td>\n",
       "      <td>0.895828</td>\n",
       "      <td>0.067534</td>\n",
       "      <td>0.790155</td>\n",
       "      <td>1.536696</td>\n",
       "    </tr>\n",
       "    <tr>\n",
       "      <th>std</th>\n",
       "      <td>146.090906</td>\n",
       "      <td>0.157711</td>\n",
       "      <td>0.076886</td>\n",
       "      <td>0.451937</td>\n",
       "      <td>0.365764</td>\n",
       "      <td>0.474265</td>\n",
       "      <td>0.473855</td>\n",
       "      <td>0.305485</td>\n",
       "      <td>0.250947</td>\n",
       "      <td>0.407201</td>\n",
       "      <td>0.836273</td>\n",
       "    </tr>\n",
       "    <tr>\n",
       "      <th>min</th>\n",
       "      <td>2.000000</td>\n",
       "      <td>0.000000</td>\n",
       "      <td>0.000000</td>\n",
       "      <td>0.000000</td>\n",
       "      <td>0.000000</td>\n",
       "      <td>0.000000</td>\n",
       "      <td>0.000000</td>\n",
       "      <td>0.000000</td>\n",
       "      <td>0.000000</td>\n",
       "      <td>0.000000</td>\n",
       "      <td>0.000000</td>\n",
       "    </tr>\n",
       "    <tr>\n",
       "      <th>25%</th>\n",
       "      <td>28.000000</td>\n",
       "      <td>1.000000</td>\n",
       "      <td>0.000000</td>\n",
       "      <td>0.000000</td>\n",
       "      <td>0.000000</td>\n",
       "      <td>0.000000</td>\n",
       "      <td>0.000000</td>\n",
       "      <td>1.000000</td>\n",
       "      <td>0.000000</td>\n",
       "      <td>1.000000</td>\n",
       "      <td>1.000000</td>\n",
       "    </tr>\n",
       "    <tr>\n",
       "      <th>50%</th>\n",
       "      <td>33.000000</td>\n",
       "      <td>1.000000</td>\n",
       "      <td>0.000000</td>\n",
       "      <td>1.000000</td>\n",
       "      <td>0.000000</td>\n",
       "      <td>1.000000</td>\n",
       "      <td>0.000000</td>\n",
       "      <td>1.000000</td>\n",
       "      <td>0.000000</td>\n",
       "      <td>1.000000</td>\n",
       "      <td>1.000000</td>\n",
       "    </tr>\n",
       "    <tr>\n",
       "      <th>75%</th>\n",
       "      <td>42.000000</td>\n",
       "      <td>1.000000</td>\n",
       "      <td>0.000000</td>\n",
       "      <td>1.000000</td>\n",
       "      <td>0.000000</td>\n",
       "      <td>1.000000</td>\n",
       "      <td>1.000000</td>\n",
       "      <td>1.000000</td>\n",
       "      <td>0.000000</td>\n",
       "      <td>1.000000</td>\n",
       "      <td>2.000000</td>\n",
       "    </tr>\n",
       "    <tr>\n",
       "      <th>max</th>\n",
       "      <td>2014.000000</td>\n",
       "      <td>1.000000</td>\n",
       "      <td>1.000000</td>\n",
       "      <td>1.000000</td>\n",
       "      <td>1.000000</td>\n",
       "      <td>1.000000</td>\n",
       "      <td>1.000000</td>\n",
       "      <td>1.000000</td>\n",
       "      <td>1.000000</td>\n",
       "      <td>1.000000</td>\n",
       "      <td>3.000000</td>\n",
       "    </tr>\n",
       "  </tbody>\n",
       "</table>\n",
       "</div>"
      ],
      "text/plain": [
       "                age   language_en  language_chn   country_usa   country_eur  \\\n",
       "count  67936.000000  67936.000000  67936.000000  67936.000000  67936.000000   \n",
       "mean      47.874249      0.974476      0.005947      0.713907      0.159091   \n",
       "std      146.090906      0.157711      0.076886      0.451937      0.365764   \n",
       "min        2.000000      0.000000      0.000000      0.000000      0.000000   \n",
       "25%       28.000000      1.000000      0.000000      0.000000      0.000000   \n",
       "50%       33.000000      1.000000      0.000000      1.000000      0.000000   \n",
       "75%       42.000000      1.000000      0.000000      1.000000      0.000000   \n",
       "max     2014.000000      1.000000      1.000000      1.000000      1.000000   \n",
       "\n",
       "            android    mobile_web       webpage           ios       married  \\\n",
       "count  67936.000000  67936.000000  67936.000000  67936.000000  67936.000000   \n",
       "mean       0.658355      0.340423      0.895828      0.067534      0.790155   \n",
       "std        0.474265      0.473855      0.305485      0.250947      0.407201   \n",
       "min        0.000000      0.000000      0.000000      0.000000      0.000000   \n",
       "25%        0.000000      0.000000      1.000000      0.000000      1.000000   \n",
       "50%        1.000000      0.000000      1.000000      0.000000      1.000000   \n",
       "75%        1.000000      1.000000      1.000000      0.000000      1.000000   \n",
       "max        1.000000      1.000000      1.000000      1.000000      1.000000   \n",
       "\n",
       "           children  \n",
       "count  67936.000000  \n",
       "mean       1.536696  \n",
       "std        0.836273  \n",
       "min        0.000000  \n",
       "25%        1.000000  \n",
       "50%        1.000000  \n",
       "75%        2.000000  \n",
       "max        3.000000  "
      ]
     },
     "execution_count": 3,
     "metadata": {},
     "output_type": "execute_result"
    }
   ],
   "source": [
    "airbnb.describe() # get descriptive statistics"
   ]
  },
  {
   "cell_type": "markdown",
   "metadata": {},
   "source": [
    "age max is 2014, which is an exception, need to be handled"
   ]
  },
  {
   "cell_type": "code",
   "execution_count": 4,
   "metadata": {},
   "outputs": [
    {
     "data": {
      "text/plain": [
       "count    66473.000000\n",
       "mean        36.040483\n",
       "std         10.963735\n",
       "min         18.000000\n",
       "25%         28.000000\n",
       "50%         33.000000\n",
       "75%         41.000000\n",
       "max         80.000000\n",
       "Name: age, dtype: float64"
      ]
     },
     "execution_count": 4,
     "metadata": {},
     "output_type": "execute_result"
    }
   ],
   "source": [
    "# we assume the age of target user group is between 18-80 years old\n",
    "airbnb = airbnb[airbnb['age'] >= 18]\n",
    "airbnb = airbnb[airbnb['age'] <= 80]\n",
    "\n",
    "airbnb['age'].describe()"
   ]
  },
  {
   "cell_type": "code",
   "execution_count": 5,
   "metadata": {
    "scrolled": true
   },
   "outputs": [
    {
     "data": {
      "text/plain": [
       "30    3614\n",
       "31    3522\n",
       "32    3445\n",
       "29    3404\n",
       "28    3376\n",
       "      ... \n",
       "76      32\n",
       "77      29\n",
       "79      22\n",
       "78      22\n",
       "80      18\n",
       "Name: age, Length: 63, dtype: int64"
      ]
     },
     "execution_count": 5,
     "metadata": {},
     "output_type": "execute_result"
    }
   ],
   "source": [
    "#check age distribution and the number of in each age \n",
    "airbnb['age'].value_counts() "
   ]
  },
  {
   "cell_type": "markdown",
   "metadata": {},
   "source": [
    "* Conclusion: The age of users ranges from 18 to 80, with an average age of 36 years and a median age of 33 years. Among them, users aged 28-32 are the main consumers"
   ]
  },
  {
   "cell_type": "code",
   "execution_count": 6,
   "metadata": {
    "tags": []
   },
   "outputs": [
    {
     "name": "stdout",
     "output_type": "stream",
     "text": [
      "<class 'pandas.core.frame.DataFrame'>\n",
      "Int64Index: 66473 entries, 0 to 67935\n",
      "Data columns (total 14 columns):\n",
      " #   Column              Non-Null Count  Dtype         \n",
      "---  ------              --------------  -----         \n",
      " 0   age                 66473 non-null  int64         \n",
      " 1   date_acc_reg        66473 non-null  datetime64[ns]\n",
      " 2   date_first_booking  66473 non-null  object        \n",
      " 3   gender              66473 non-null  object        \n",
      " 4   language_en         66473 non-null  int64         \n",
      " 5   language_chn        66473 non-null  int64         \n",
      " 6   country_usa         66473 non-null  int64         \n",
      " 7   country_eur         66473 non-null  int64         \n",
      " 8   android             66473 non-null  int64         \n",
      " 9   mobile_web          66473 non-null  int64         \n",
      " 10  webpage             66473 non-null  int64         \n",
      " 11  ios                 66473 non-null  int64         \n",
      " 12  married             66473 non-null  int64         \n",
      " 13  children            66473 non-null  int64         \n",
      "dtypes: datetime64[ns](1), int64(11), object(2)\n",
      "memory usage: 7.6+ MB\n"
     ]
    }
   ],
   "source": [
    "#将注册日期转变为日期时间的格式\n",
    "#change date_acc_reg from object to datetime64[ns]\n",
    "airbnb['date_acc_reg'] = pd.to_datetime(airbnb['date_acc_reg'])\n",
    "\n",
    "airbnb.info()"
   ]
  },
  {
   "cell_type": "markdown",
   "metadata": {},
   "source": [
    "Above we see the data of date_acc_reg has transformed to datetime64"
   ]
  },
  {
   "cell_type": "code",
   "execution_count": 7,
   "metadata": {},
   "outputs": [
    {
     "data": {
      "text/plain": [
       "count    66473.000000\n",
       "mean         8.035819\n",
       "std          0.965431\n",
       "min          7.000000\n",
       "25%          7.000000\n",
       "50%          8.000000\n",
       "75%          9.000000\n",
       "max         11.000000\n",
       "Name: year_acc_reg, dtype: float64"
      ]
     },
     "execution_count": 7,
     "metadata": {},
     "output_type": "execute_result"
    }
   ],
   "source": [
    "# compute the year length of registration: 2021- x.year\n",
    "airbnb['year_acc_reg'] = airbnb['date_acc_reg'].apply(lambda x: 2021 - x.year)\n",
    "\n",
    "airbnb['year_acc_reg'].describe()"
   ]
  },
  {
   "cell_type": "code",
   "execution_count": 8,
   "metadata": {},
   "outputs": [
    {
     "data": {
      "text/plain": [
       "8     25497\n",
       "7     22469\n",
       "9     13182\n",
       "10     4307\n",
       "11     1018\n",
       "Name: year_acc_reg, dtype: int64"
      ]
     },
     "execution_count": 8,
     "metadata": {},
     "output_type": "execute_result"
    }
   ],
   "source": [
    "airbnb['year_acc_reg'].value_counts()"
   ]
  },
  {
   "cell_type": "markdown",
   "metadata": {},
   "source": [
    "* Conslusion: the minimum year length of registration is 7 years while the longest is 11 years."
   ]
  },
  {
   "cell_type": "code",
   "execution_count": 9,
   "metadata": {
    "tags": []
   },
   "outputs": [
    {
     "data": {
      "text/plain": [
       "count    66473.000000\n",
       "mean         7.907481\n",
       "std          0.995303\n",
       "min          6.000000\n",
       "25%          7.000000\n",
       "50%          8.000000\n",
       "75%          8.000000\n",
       "max         11.000000\n",
       "Name: year_first_booking, dtype: float64"
      ]
     },
     "execution_count": 9,
     "metadata": {},
     "output_type": "execute_result"
    }
   ],
   "source": [
    "# handle date_first_booking in the same way\n",
    "airbnb['date_first_booking'] = pd.to_datetime(airbnb['date_first_booking'])\n",
    "\n",
    "airbnb['year_first_booking'] = airbnb['date_first_booking'].apply(lambda x: 2021 - x.year)\n",
    "\n",
    "airbnb['year_first_booking'].describe()"
   ]
  },
  {
   "cell_type": "markdown",
   "metadata": {},
   "source": [
    "* Conclusion: the shortest time since the first booking is 6 years and the longest is 11 years"
   ]
  },
  {
   "cell_type": "code",
   "execution_count": 10,
   "metadata": {
    "tags": []
   },
   "outputs": [
    {
     "name": "stdout",
     "output_type": "stream",
     "text": [
      "<class 'pandas.core.frame.DataFrame'>\n",
      "Int64Index: 66473 entries, 0 to 67935\n",
      "Data columns (total 14 columns):\n",
      " #   Column              Non-Null Count  Dtype \n",
      "---  ------              --------------  ----- \n",
      " 0   age                 66473 non-null  int64 \n",
      " 1   gender              66473 non-null  object\n",
      " 2   language_en         66473 non-null  int64 \n",
      " 3   language_chn        66473 non-null  int64 \n",
      " 4   country_usa         66473 non-null  int64 \n",
      " 5   country_eur         66473 non-null  int64 \n",
      " 6   android             66473 non-null  int64 \n",
      " 7   mobile_web          66473 non-null  int64 \n",
      " 8   webpage             66473 non-null  int64 \n",
      " 9   ios                 66473 non-null  int64 \n",
      " 10  married             66473 non-null  int64 \n",
      " 11  children            66473 non-null  int64 \n",
      " 12  year_acc_reg        66473 non-null  int64 \n",
      " 13  year_first_booking  66473 non-null  int64 \n",
      "dtypes: int64(13), object(1)\n",
      "memory usage: 7.6+ MB\n"
     ]
    }
   ],
   "source": [
    "# delete date_acc_reg and date_first_booking variables because they are not useful now\n",
    "airbnb.drop(airbnb.select_dtypes(['datetime64']), axis = 1, inplace = True)\n",
    "airbnb.info()"
   ]
  },
  {
   "cell_type": "code",
   "execution_count": 11,
   "metadata": {
    "tags": []
   },
   "outputs": [
    {
     "name": "stdout",
     "output_type": "stream",
     "text": [
      "<class 'pandas.core.frame.DataFrame'>\n",
      "Int64Index: 66473 entries, 0 to 67935\n",
      "Data columns (total 16 columns):\n",
      " #   Column              Non-Null Count  Dtype\n",
      "---  ------              --------------  -----\n",
      " 0   age                 66473 non-null  int64\n",
      " 1   language_en         66473 non-null  int64\n",
      " 2   language_chn        66473 non-null  int64\n",
      " 3   country_usa         66473 non-null  int64\n",
      " 4   country_eur         66473 non-null  int64\n",
      " 5   android             66473 non-null  int64\n",
      " 6   mobile_web          66473 non-null  int64\n",
      " 7   webpage             66473 non-null  int64\n",
      " 8   ios                 66473 non-null  int64\n",
      " 9   married             66473 non-null  int64\n",
      " 10  children            66473 non-null  int64\n",
      " 11  year_acc_reg        66473 non-null  int64\n",
      " 12  year_first_booking  66473 non-null  int64\n",
      " 13  gender_F            66473 non-null  uint8\n",
      " 14  gender_M            66473 non-null  uint8\n",
      " 15  gender_U            66473 non-null  uint8\n",
      "dtypes: int64(13), uint8(3)\n",
      "memory usage: 7.3 MB\n"
     ]
    }
   ],
   "source": [
    "# handle gender to be dummy variables\n",
    "airbnb = pd.get_dummies(airbnb)\n",
    "airbnb.info()"
   ]
  },
  {
   "cell_type": "code",
   "execution_count": 12,
   "metadata": {},
   "outputs": [
    {
     "data": {
      "text/html": [
       "<div>\n",
       "<style scoped>\n",
       "    .dataframe tbody tr th:only-of-type {\n",
       "        vertical-align: middle;\n",
       "    }\n",
       "\n",
       "    .dataframe tbody tr th {\n",
       "        vertical-align: top;\n",
       "    }\n",
       "\n",
       "    .dataframe thead th {\n",
       "        text-align: right;\n",
       "    }\n",
       "</style>\n",
       "<table border=\"1\" class=\"dataframe\">\n",
       "  <thead>\n",
       "    <tr style=\"text-align: right;\">\n",
       "      <th></th>\n",
       "      <th>age</th>\n",
       "      <th>children</th>\n",
       "      <th>married</th>\n",
       "      <th>language_en</th>\n",
       "      <th>country_usa</th>\n",
       "    </tr>\n",
       "  </thead>\n",
       "  <tbody>\n",
       "    <tr>\n",
       "      <th>age</th>\n",
       "      <td>1.000000</td>\n",
       "      <td>0.095667</td>\n",
       "      <td>0.042270</td>\n",
       "      <td>0.057721</td>\n",
       "      <td>-0.026222</td>\n",
       "    </tr>\n",
       "    <tr>\n",
       "      <th>children</th>\n",
       "      <td>0.095667</td>\n",
       "      <td>1.000000</td>\n",
       "      <td>0.044594</td>\n",
       "      <td>0.011395</td>\n",
       "      <td>0.019058</td>\n",
       "    </tr>\n",
       "    <tr>\n",
       "      <th>married</th>\n",
       "      <td>0.042270</td>\n",
       "      <td>0.044594</td>\n",
       "      <td>1.000000</td>\n",
       "      <td>0.002781</td>\n",
       "      <td>0.001530</td>\n",
       "    </tr>\n",
       "    <tr>\n",
       "      <th>language_en</th>\n",
       "      <td>0.057721</td>\n",
       "      <td>0.011395</td>\n",
       "      <td>0.002781</td>\n",
       "      <td>1.000000</td>\n",
       "      <td>0.005160</td>\n",
       "    </tr>\n",
       "    <tr>\n",
       "      <th>country_usa</th>\n",
       "      <td>-0.026222</td>\n",
       "      <td>0.019058</td>\n",
       "      <td>0.001530</td>\n",
       "      <td>0.005160</td>\n",
       "      <td>1.000000</td>\n",
       "    </tr>\n",
       "  </tbody>\n",
       "</table>\n",
       "</div>"
      ],
      "text/plain": [
       "                  age  children   married  language_en  country_usa\n",
       "age          1.000000  0.095667  0.042270     0.057721    -0.026222\n",
       "children     0.095667  1.000000  0.044594     0.011395     0.019058\n",
       "married      0.042270  0.044594  1.000000     0.002781     0.001530\n",
       "language_en  0.057721  0.011395  0.002781     1.000000     0.005160\n",
       "country_usa -0.026222  0.019058  0.001530     0.005160     1.000000"
      ]
     },
     "execution_count": 12,
     "metadata": {},
     "output_type": "execute_result"
    }
   ],
   "source": [
    "# Observe the relationship between age and other users’ personal information\n",
    "set1 = airbnb[['age', 'children', 'married', 'language_en', 'country_usa']]\n",
    "set1.corr()"
   ]
  },
  {
   "cell_type": "code",
   "execution_count": 13,
   "metadata": {},
   "outputs": [
    {
     "data": {
      "text/plain": [
       "<AxesSubplot:>"
      ]
     },
     "execution_count": 13,
     "metadata": {},
     "output_type": "execute_result"
    },
    {
     "data": {
      "image/png": "[encoded data removed]",
      "text/plain": [
       "<Figure size 432x288 with 2 Axes>"
      ]
     },
     "metadata": {
      "needs_background": "light"
     },
     "output_type": "display_data"
    }
   ],
   "source": [
    "sns.heatmap(set1.corr(), cmap = 'GnBu')"
   ]
  },
  {
   "cell_type": "markdown",
   "metadata": {},
   "source": [
    "* Conclusion: \n",
    "1. The user’s age is positively correlated with the variables of language_en and children, indicating that Airbnb is more popular in families with higher age, higher frequency of using English and more children. \n",
    "\n",
    "2.  Age has a negative correlation with the country_usa variable, indicating that the greater the age of the user, the less likely they are to use Airbnb in USA. "
   ]
  },
  {
   "cell_type": "code",
   "execution_count": 14,
   "metadata": {},
   "outputs": [
    {
     "data": {
      "text/html": [
       "<div>\n",
       "<style scoped>\n",
       "    .dataframe tbody tr th:only-of-type {\n",
       "        vertical-align: middle;\n",
       "    }\n",
       "\n",
       "    .dataframe tbody tr th {\n",
       "        vertical-align: top;\n",
       "    }\n",
       "\n",
       "    .dataframe thead th {\n",
       "        text-align: right;\n",
       "    }\n",
       "</style>\n",
       "<table border=\"1\" class=\"dataframe\">\n",
       "  <thead>\n",
       "    <tr style=\"text-align: right;\">\n",
       "      <th></th>\n",
       "      <th>age</th>\n",
       "      <th>android</th>\n",
       "      <th>mobile_web</th>\n",
       "      <th>webpage</th>\n",
       "      <th>ios</th>\n",
       "      <th>gender_F</th>\n",
       "      <th>gender_M</th>\n",
       "    </tr>\n",
       "  </thead>\n",
       "  <tbody>\n",
       "    <tr>\n",
       "      <th>age</th>\n",
       "      <td>1.000000</td>\n",
       "      <td>0.079089</td>\n",
       "      <td>-0.078795</td>\n",
       "      <td>0.089291</td>\n",
       "      <td>-0.073365</td>\n",
       "      <td>-0.045750</td>\n",
       "      <td>0.025568</td>\n",
       "    </tr>\n",
       "    <tr>\n",
       "      <th>android</th>\n",
       "      <td>0.079089</td>\n",
       "      <td>1.000000</td>\n",
       "      <td>-0.997242</td>\n",
       "      <td>0.022491</td>\n",
       "      <td>-0.035327</td>\n",
       "      <td>-0.070349</td>\n",
       "      <td>-0.156132</td>\n",
       "    </tr>\n",
       "    <tr>\n",
       "      <th>mobile_web</th>\n",
       "      <td>-0.078795</td>\n",
       "      <td>-0.997242</td>\n",
       "      <td>1.000000</td>\n",
       "      <td>-0.014833</td>\n",
       "      <td>0.036069</td>\n",
       "      <td>0.071656</td>\n",
       "      <td>0.156145</td>\n",
       "    </tr>\n",
       "    <tr>\n",
       "      <th>webpage</th>\n",
       "      <td>0.089291</td>\n",
       "      <td>0.022491</td>\n",
       "      <td>-0.014833</td>\n",
       "      <td>1.000000</td>\n",
       "      <td>-0.790675</td>\n",
       "      <td>0.022285</td>\n",
       "      <td>-0.017945</td>\n",
       "    </tr>\n",
       "    <tr>\n",
       "      <th>ios</th>\n",
       "      <td>-0.073365</td>\n",
       "      <td>-0.035327</td>\n",
       "      <td>0.036069</td>\n",
       "      <td>-0.790675</td>\n",
       "      <td>1.000000</td>\n",
       "      <td>-0.025997</td>\n",
       "      <td>0.029723</td>\n",
       "    </tr>\n",
       "    <tr>\n",
       "      <th>gender_F</th>\n",
       "      <td>-0.045750</td>\n",
       "      <td>-0.070349</td>\n",
       "      <td>0.071656</td>\n",
       "      <td>0.022285</td>\n",
       "      <td>-0.025997</td>\n",
       "      <td>1.000000</td>\n",
       "      <td>-0.705323</td>\n",
       "    </tr>\n",
       "    <tr>\n",
       "      <th>gender_M</th>\n",
       "      <td>0.025568</td>\n",
       "      <td>-0.156132</td>\n",
       "      <td>0.156145</td>\n",
       "      <td>-0.017945</td>\n",
       "      <td>0.029723</td>\n",
       "      <td>-0.705323</td>\n",
       "      <td>1.000000</td>\n",
       "    </tr>\n",
       "  </tbody>\n",
       "</table>\n",
       "</div>"
      ],
      "text/plain": [
       "                 age   android  mobile_web   webpage       ios  gender_F  \\\n",
       "age         1.000000  0.079089   -0.078795  0.089291 -0.073365 -0.045750   \n",
       "android     0.079089  1.000000   -0.997242  0.022491 -0.035327 -0.070349   \n",
       "mobile_web -0.078795 -0.997242    1.000000 -0.014833  0.036069  0.071656   \n",
       "webpage     0.089291  0.022491   -0.014833  1.000000 -0.790675  0.022285   \n",
       "ios        -0.073365 -0.035327    0.036069 -0.790675  1.000000 -0.025997   \n",
       "gender_F   -0.045750 -0.070349    0.071656  0.022285 -0.025997  1.000000   \n",
       "gender_M    0.025568 -0.156132    0.156145 -0.017945  0.029723 -0.705323   \n",
       "\n",
       "            gender_M  \n",
       "age         0.025568  \n",
       "android    -0.156132  \n",
       "mobile_web  0.156145  \n",
       "webpage    -0.017945  \n",
       "ios         0.029723  \n",
       "gender_F   -0.705323  \n",
       "gender_M    1.000000  "
      ]
     },
     "execution_count": 14,
     "metadata": {},
     "output_type": "execute_result"
    }
   ],
   "source": [
    "set2 = airbnb[['age', 'android', 'mobile_web', 'webpage', 'ios', 'gender_F', 'gender_M']]\n",
    "set2.corr()"
   ]
  },
  {
   "cell_type": "code",
   "execution_count": 15,
   "metadata": {
    "scrolled": true
   },
   "outputs": [
    {
     "data": {
      "text/plain": [
       "<AxesSubplot:>"
      ]
     },
     "execution_count": 15,
     "metadata": {},
     "output_type": "execute_result"
    },
    {
     "data": {
      "image/png": "[encoded data removed]",
      "text/plain": [
       "<Figure size 432x288 with 2 Axes>"
      ]
     },
     "metadata": {
      "needs_background": "light"
     },
     "output_type": "display_data"
    }
   ],
   "source": [
    "sns.heatmap(set2.corr(), cmap = 'summer_r')"
   ]
  },
  {
   "cell_type": "markdown",
   "metadata": {},
   "source": [
    "Conclusion: \n",
    "- 1. As age increases, users will be more inclined to order on the computers.\n",
    "- 2. Elder users tend to order on android phones while younger users tend to order on iPhones.\n",
    "- 3. Male users prefer to order on the webpages, and they don’t like to order on Android phones.\n",
    "- 4. The correlation between age and the user's ordering channel and gender is too weak, which is of little significance for subsequent analysis"
   ]
  },
  {
   "cell_type": "code",
   "execution_count": 16,
   "metadata": {},
   "outputs": [],
   "source": [
    "# place these 5 index into a new varialbe for easy use\n",
    "airbnb_5 = airbnb[['age', 'android', 'mobile_web', 'webpage', 'ios']]"
   ]
  },
  {
   "cell_type": "code",
   "execution_count": 17,
   "metadata": {},
   "outputs": [],
   "source": [
    "# import sklearn\n",
    "from sklearn.preprocessing import scale\n",
    "# normalize data after scale and save to x\n",
    "x = pd.DataFrame(scale(airbnb_5))"
   ]
  },
  {
   "cell_type": "code",
   "execution_count": 18,
   "metadata": {},
   "outputs": [
    {
     "data": {
      "text/plain": [
       "KMeans(n_clusters=3, random_state=10)"
      ]
     },
     "execution_count": 18,
     "metadata": {},
     "output_type": "execute_result"
    }
   ],
   "source": [
    "#使用cluster建模，先尝试分为3组\n",
    "# model using cluster, try number 3\n",
    "from sklearn import cluster\n",
    "model = cluster.KMeans(n_clusters = 3, random_state = 10)\n",
    "model.fit(x)"
   ]
  },
  {
   "cell_type": "code",
   "execution_count": 19,
   "metadata": {},
   "outputs": [
    {
     "name": "stderr",
     "output_type": "stream",
     "text": [
      "<ipython-input-19-867d698c5a41>:2: SettingWithCopyWarning: \n",
      "A value is trying to be set on a copy of a slice from a DataFrame.\n",
      "Try using .loc[row_indexer,col_indexer] = value instead\n",
      "\n",
      "See the caveats in the documentation: https://pandas.pydata.org/pandas-docs/stable/user_guide/indexing.html#returning-a-view-versus-a-copy\n",
      "  airbnb_5['cluster'] = model.labels_\n"
     ]
    },
    {
     "data": {
      "text/html": [
       "<div>\n",
       "<style scoped>\n",
       "    .dataframe tbody tr th:only-of-type {\n",
       "        vertical-align: middle;\n",
       "    }\n",
       "\n",
       "    .dataframe tbody tr th {\n",
       "        vertical-align: top;\n",
       "    }\n",
       "\n",
       "    .dataframe thead th {\n",
       "        text-align: right;\n",
       "    }\n",
       "</style>\n",
       "<table border=\"1\" class=\"dataframe\">\n",
       "  <thead>\n",
       "    <tr style=\"text-align: right;\">\n",
       "      <th></th>\n",
       "      <th>age</th>\n",
       "      <th>android</th>\n",
       "      <th>mobile_web</th>\n",
       "      <th>webpage</th>\n",
       "      <th>ios</th>\n",
       "      <th>cluster</th>\n",
       "    </tr>\n",
       "  </thead>\n",
       "  <tbody>\n",
       "    <tr>\n",
       "      <th>0</th>\n",
       "      <td>56</td>\n",
       "      <td>1</td>\n",
       "      <td>0</td>\n",
       "      <td>1</td>\n",
       "      <td>0</td>\n",
       "      <td>1</td>\n",
       "    </tr>\n",
       "    <tr>\n",
       "      <th>1</th>\n",
       "      <td>42</td>\n",
       "      <td>0</td>\n",
       "      <td>1</td>\n",
       "      <td>1</td>\n",
       "      <td>0</td>\n",
       "      <td>2</td>\n",
       "    </tr>\n",
       "    <tr>\n",
       "      <th>2</th>\n",
       "      <td>41</td>\n",
       "      <td>1</td>\n",
       "      <td>0</td>\n",
       "      <td>1</td>\n",
       "      <td>0</td>\n",
       "      <td>1</td>\n",
       "    </tr>\n",
       "    <tr>\n",
       "      <th>3</th>\n",
       "      <td>46</td>\n",
       "      <td>1</td>\n",
       "      <td>0</td>\n",
       "      <td>1</td>\n",
       "      <td>0</td>\n",
       "      <td>1</td>\n",
       "    </tr>\n",
       "    <tr>\n",
       "      <th>4</th>\n",
       "      <td>47</td>\n",
       "      <td>1</td>\n",
       "      <td>0</td>\n",
       "      <td>1</td>\n",
       "      <td>0</td>\n",
       "      <td>1</td>\n",
       "    </tr>\n",
       "    <tr>\n",
       "      <th>5</th>\n",
       "      <td>50</td>\n",
       "      <td>1</td>\n",
       "      <td>0</td>\n",
       "      <td>1</td>\n",
       "      <td>0</td>\n",
       "      <td>1</td>\n",
       "    </tr>\n",
       "    <tr>\n",
       "      <th>6</th>\n",
       "      <td>46</td>\n",
       "      <td>1</td>\n",
       "      <td>0</td>\n",
       "      <td>1</td>\n",
       "      <td>0</td>\n",
       "      <td>1</td>\n",
       "    </tr>\n",
       "    <tr>\n",
       "      <th>7</th>\n",
       "      <td>36</td>\n",
       "      <td>1</td>\n",
       "      <td>0</td>\n",
       "      <td>1</td>\n",
       "      <td>0</td>\n",
       "      <td>1</td>\n",
       "    </tr>\n",
       "    <tr>\n",
       "      <th>8</th>\n",
       "      <td>33</td>\n",
       "      <td>1</td>\n",
       "      <td>0</td>\n",
       "      <td>1</td>\n",
       "      <td>0</td>\n",
       "      <td>1</td>\n",
       "    </tr>\n",
       "    <tr>\n",
       "      <th>9</th>\n",
       "      <td>31</td>\n",
       "      <td>1</td>\n",
       "      <td>0</td>\n",
       "      <td>1</td>\n",
       "      <td>0</td>\n",
       "      <td>1</td>\n",
       "    </tr>\n",
       "  </tbody>\n",
       "</table>\n",
       "</div>"
      ],
      "text/plain": [
       "   age  android  mobile_web  webpage  ios  cluster\n",
       "0   56        1           0        1    0        1\n",
       "1   42        0           1        1    0        2\n",
       "2   41        1           0        1    0        1\n",
       "3   46        1           0        1    0        1\n",
       "4   47        1           0        1    0        1\n",
       "5   50        1           0        1    0        1\n",
       "6   46        1           0        1    0        1\n",
       "7   36        1           0        1    0        1\n",
       "8   33        1           0        1    0        1\n",
       "9   31        1           0        1    0        1"
      ]
     },
     "execution_count": 19,
     "metadata": {},
     "output_type": "execute_result"
    }
   ],
   "source": [
    "# Extract labels and view classification results\n",
    "airbnb_5['cluster'] = model.labels_\n",
    "airbnb_5.head(10)"
   ]
  },
  {
   "cell_type": "code",
   "execution_count": 20,
   "metadata": {},
   "outputs": [
    {
     "data": {
      "text/plain": [
       "<AxesSubplot:xlabel='age', ylabel='ios'>"
      ]
     },
     "execution_count": 20,
     "metadata": {},
     "output_type": "execute_result"
    },
    {
     "data": {
      "image/png": "[encoded data removed]",
      "text/plain": [
       "<Figure size 432x288 with 1 Axes>"
      ]
     },
     "metadata": {
      "needs_background": "light"
     },
     "output_type": "display_data"
    }
   ],
   "source": [
    "sns.scatterplot(x = 'age', y = 'ios', hue = 'cluster', data = airbnb_5)"
   ]
  },
  {
   "cell_type": "code",
   "execution_count": 21,
   "metadata": {},
   "outputs": [
    {
     "data": {
      "text/html": [
       "<div>\n",
       "<style scoped>\n",
       "    .dataframe tbody tr th:only-of-type {\n",
       "        vertical-align: middle;\n",
       "    }\n",
       "\n",
       "    .dataframe tbody tr th {\n",
       "        vertical-align: top;\n",
       "    }\n",
       "\n",
       "    .dataframe thead th {\n",
       "        text-align: right;\n",
       "    }\n",
       "</style>\n",
       "<table border=\"1\" class=\"dataframe\">\n",
       "  <thead>\n",
       "    <tr style=\"text-align: right;\">\n",
       "      <th></th>\n",
       "      <th>count</th>\n",
       "      <th>mean</th>\n",
       "      <th>std</th>\n",
       "      <th>min</th>\n",
       "      <th>25%</th>\n",
       "      <th>50%</th>\n",
       "      <th>75%</th>\n",
       "      <th>max</th>\n",
       "    </tr>\n",
       "    <tr>\n",
       "      <th>cluster</th>\n",
       "      <th></th>\n",
       "      <th></th>\n",
       "      <th></th>\n",
       "      <th></th>\n",
       "      <th></th>\n",
       "      <th></th>\n",
       "      <th></th>\n",
       "      <th></th>\n",
       "    </tr>\n",
       "  </thead>\n",
       "  <tbody>\n",
       "    <tr>\n",
       "      <th>0</th>\n",
       "      <td>4535.0</td>\n",
       "      <td>33.067916</td>\n",
       "      <td>8.641708</td>\n",
       "      <td>18.0</td>\n",
       "      <td>27.0</td>\n",
       "      <td>31.0</td>\n",
       "      <td>37.0</td>\n",
       "      <td>77.0</td>\n",
       "    </tr>\n",
       "    <tr>\n",
       "      <th>1</th>\n",
       "      <td>40845.0</td>\n",
       "      <td>36.876215</td>\n",
       "      <td>11.581504</td>\n",
       "      <td>18.0</td>\n",
       "      <td>29.0</td>\n",
       "      <td>34.0</td>\n",
       "      <td>43.0</td>\n",
       "      <td>80.0</td>\n",
       "    </tr>\n",
       "    <tr>\n",
       "      <th>2</th>\n",
       "      <td>21093.0</td>\n",
       "      <td>35.061253</td>\n",
       "      <td>9.940771</td>\n",
       "      <td>18.0</td>\n",
       "      <td>28.0</td>\n",
       "      <td>33.0</td>\n",
       "      <td>39.0</td>\n",
       "      <td>80.0</td>\n",
       "    </tr>\n",
       "  </tbody>\n",
       "</table>\n",
       "</div>"
      ],
      "text/plain": [
       "           count       mean        std   min   25%   50%   75%   max\n",
       "cluster                                                             \n",
       "0         4535.0  33.067916   8.641708  18.0  27.0  31.0  37.0  77.0\n",
       "1        40845.0  36.876215  11.581504  18.0  29.0  34.0  43.0  80.0\n",
       "2        21093.0  35.061253   9.940771  18.0  28.0  33.0  39.0  80.0"
      ]
     },
     "execution_count": 21,
     "metadata": {},
     "output_type": "execute_result"
    }
   ],
   "source": [
    "# evaluate univariable dimension clustering effect\n",
    "airbnb_5.groupby(['cluster'])['age'].describe()"
   ]
  },
  {
   "cell_type": "markdown",
   "metadata": {},
   "source": [
    "- the age distribution of the three groups of users is between 18-80 years old, indicating that the age distinction is weak"
   ]
  },
  {
   "cell_type": "code",
   "execution_count": 22,
   "metadata": {},
   "outputs": [
    {
     "data": {
      "text/html": [
       "<div>\n",
       "<style scoped>\n",
       "    .dataframe tbody tr th:only-of-type {\n",
       "        vertical-align: middle;\n",
       "    }\n",
       "\n",
       "    .dataframe tbody tr th {\n",
       "        vertical-align: top;\n",
       "    }\n",
       "\n",
       "    .dataframe thead th {\n",
       "        text-align: right;\n",
       "    }\n",
       "</style>\n",
       "<table border=\"1\" class=\"dataframe\">\n",
       "  <thead>\n",
       "    <tr style=\"text-align: right;\">\n",
       "      <th></th>\n",
       "      <th>count</th>\n",
       "      <th>mean</th>\n",
       "      <th>std</th>\n",
       "      <th>min</th>\n",
       "      <th>25%</th>\n",
       "      <th>50%</th>\n",
       "      <th>75%</th>\n",
       "      <th>max</th>\n",
       "    </tr>\n",
       "    <tr>\n",
       "      <th>cluster</th>\n",
       "      <th></th>\n",
       "      <th></th>\n",
       "      <th></th>\n",
       "      <th></th>\n",
       "      <th></th>\n",
       "      <th></th>\n",
       "      <th></th>\n",
       "      <th></th>\n",
       "    </tr>\n",
       "  </thead>\n",
       "  <tbody>\n",
       "    <tr>\n",
       "      <th>0</th>\n",
       "      <td>4535.0</td>\n",
       "      <td>1.0</td>\n",
       "      <td>0.0</td>\n",
       "      <td>1.0</td>\n",
       "      <td>1.0</td>\n",
       "      <td>1.0</td>\n",
       "      <td>1.0</td>\n",
       "      <td>1.0</td>\n",
       "    </tr>\n",
       "    <tr>\n",
       "      <th>1</th>\n",
       "      <td>40845.0</td>\n",
       "      <td>0.0</td>\n",
       "      <td>0.0</td>\n",
       "      <td>0.0</td>\n",
       "      <td>0.0</td>\n",
       "      <td>0.0</td>\n",
       "      <td>0.0</td>\n",
       "      <td>0.0</td>\n",
       "    </tr>\n",
       "    <tr>\n",
       "      <th>2</th>\n",
       "      <td>21093.0</td>\n",
       "      <td>0.0</td>\n",
       "      <td>0.0</td>\n",
       "      <td>0.0</td>\n",
       "      <td>0.0</td>\n",
       "      <td>0.0</td>\n",
       "      <td>0.0</td>\n",
       "      <td>0.0</td>\n",
       "    </tr>\n",
       "  </tbody>\n",
       "</table>\n",
       "</div>"
      ],
      "text/plain": [
       "           count  mean  std  min  25%  50%  75%  max\n",
       "cluster                                             \n",
       "0         4535.0   1.0  0.0  1.0  1.0  1.0  1.0  1.0\n",
       "1        40845.0   0.0  0.0  0.0  0.0  0.0  0.0  0.0\n",
       "2        21093.0   0.0  0.0  0.0  0.0  0.0  0.0  0.0"
      ]
     },
     "execution_count": 22,
     "metadata": {},
     "output_type": "execute_result"
    }
   ],
   "source": [
    "airbnb_5.groupby(['cluster'])['ios'].describe()"
   ]
  },
  {
   "cell_type": "markdown",
   "metadata": {},
   "source": [
    "- ios of cluster 0 and 1 is 0，ios of cluster 2 is 1 mostly, iOS is a good grouping variable "
   ]
  },
  {
   "cell_type": "code",
   "execution_count": 23,
   "metadata": {
    "tags": []
   },
   "outputs": [
    {
     "name": "stdout",
     "output_type": "stream",
     "text": [
      "0.6335056609750385\n"
     ]
    }
   ],
   "source": [
    "from sklearn import metrics\n",
    "# distance between variable x and its coresponding cluster\n",
    "x_cluster = model.fit_predict(x)\n",
    "\n",
    "# compare x with its cluster, the higer score is, the closer it to cluster\n",
    "score = metrics.silhouette_score(x, x_cluster)\n",
    "\n",
    "print(score)"
   ]
  },
  {
   "cell_type": "code",
   "execution_count": 24,
   "metadata": {
    "tags": []
   },
   "outputs": [
    {
     "name": "stdout",
     "output_type": "stream",
     "text": [
      "          0         1         2         3         4\n",
      "0 -0.271129 -0.130558  0.133297 -2.922051  3.695642\n",
      "1  0.076228  0.724734 -0.725096  0.206204 -0.270589\n",
      "2 -0.089316 -1.375323  1.375436  0.228944 -0.270589\n"
     ]
    }
   ],
   "source": [
    "# export cluster_cdenters\n",
    "centers = pd.DataFrame(model.cluster_centers_)\n",
    "\n",
    "print(centers)"
   ]
  },
  {
   "cell_type": "markdown",
   "metadata": {},
   "source": [
    "- column 0, 1, 2, 3, 4 relate to age, android, mobile_web, webpage and ios\n",
    "- cluster 0 and 2 are more special:\n",
    "    - cluster 0 prefer order on webpage，less on android phoens. \n",
    "    - cluster 2 prefer ios,very few order via webpage. "
   ]
  },
  {
   "cell_type": "code",
   "execution_count": 25,
   "metadata": {},
   "outputs": [
    {
     "data": {
      "text/plain": [
       "KMeans(n_clusters=5, random_state=10)"
      ]
     },
     "execution_count": 25,
     "metadata": {},
     "output_type": "execute_result"
    }
   ],
   "source": [
    "# change number of clusters from 3 to 5\n",
    "from sklearn import cluster\n",
    "model = cluster.KMeans(n_clusters = 5, random_state = 10)\n",
    "model.fit(x)"
   ]
  },
  {
   "cell_type": "code",
   "execution_count": 26,
   "metadata": {
    "tags": []
   },
   "outputs": [
    {
     "name": "stdout",
     "output_type": "stream",
     "text": [
      "          0         1         2         3         4\n",
      "0 -0.411262  0.727102 -0.725096  0.342225 -0.270589\n",
      "1 -0.093553 -1.375323  1.379127  0.342225 -0.270589\n",
      "2 -0.252821  0.053148 -0.122527 -2.922051 -0.270589\n",
      "3 -0.271129 -0.130558  0.133297 -2.922051  3.695642\n",
      "4  1.696794  0.707480 -0.705458  0.339802 -0.270589\n"
     ]
    }
   ],
   "source": [
    "#export cluster_centers_\n",
    "centers = pd.DataFrame(model.cluster_centers_)\n",
    "print(centers)"
   ]
  },
  {
   "cell_type": "markdown",
   "metadata": {},
   "source": [
    "- age tends to be elder \n",
    "- cluster 1 prefer order on webpage，less on android phoens.\n",
    "- cluster 2 do not like order on webpages.\n",
    "- cluster 3 prefer ios，very few order on webpages\n",
    "- age of cluster 4 is eldest, and cluster 4 and 0 data distinction is very small, which is of little significance to actual analysis"
   ]
  },
  {
   "cell_type": "markdown",
   "metadata": {},
   "source": [
    "## Summarize"
   ]
  },
  {
   "cell_type": "markdown",
   "metadata": {},
   "source": [
    "- Pay attention to the heavy Airbnb users who are 28-32 years old and registered year for 6-7 years, and develop corresponding marketing strategies for customers with low responsiveness. \n",
    "\n",
    "- The user’s age is positively correlated with the variables of language_en and children, indicating that Airbnb is more popular in families with higher age, higher frequency of using English and more children. \n",
    "\n",
    "- Age has a negative correlation with the country_usa variable, indicating that the greater the age of the user, the less likely they are to use Airbnb in USA. \n",
    "\n",
    "- As age increases, users will be more inclined to order on the computers.\n",
    "- Elder users tend to order on android phones while younger users tend to order on iPhones.\n",
    "- Male users prefer to order on the webpages, and they don’t like to order on Android phones.\n",
    "- The correlation between age and the user's ordering channel and gender is too weak, which is of little significance for subsequent analysis"
   ]
  }
 ],
 "metadata": {
  "kernelspec": {
   "display_name": "Python 3",
   "language": "python",
   "name": "python3"
  },
  "language_info": {
   "codemirror_mode": {
    "name": "ipython",
    "version": 3
   },
   "file_extension": ".py",
   "mimetype": "text/x-python",
   "name": "python",
   "nbconvert_exporter": "python",
   "pygments_lexer": "ipython3",
   "version": "3.8.8"
  }
 },
 "nbformat": 4,
 "nbformat_minor": 2
}
